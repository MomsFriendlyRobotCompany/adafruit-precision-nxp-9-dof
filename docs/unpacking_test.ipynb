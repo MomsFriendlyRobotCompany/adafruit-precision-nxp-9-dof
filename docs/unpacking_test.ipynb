{
 "cells": [
  {
   "cell_type": "code",
   "execution_count": 10,
   "metadata": {
    "collapsed": true
   },
   "outputs": [],
   "source": [
    "from __future__ import print_function, division\n",
    "import struct"
   ]
  },
  {
   "cell_type": "code",
   "execution_count": 13,
   "metadata": {},
   "outputs": [
    {
     "name": "stdout",
     "output_type": "stream",
     "text": [
      "raw [242, 251]\n",
      "raw byte 0: 242\n",
      "raw byte 1: 251\n",
      "big endian: bytearray(b'\\xf2\\xfb')\n"
     ]
    }
   ],
   "source": [
    "num = -3333\n",
    "raw = [(num & 0xff00)>>8, (num & 0xff)]  # hi, lo\n",
    "print('raw', raw)\n",
    "print('raw byte 0:', raw[0])\n",
    "print('raw byte 1:', raw[1])\n",
    "data = bytearray(raw)\n",
    "print('big endian:', data)"
   ]
  },
  {
   "cell_type": "code",
   "execution_count": 12,
   "metadata": {},
   "outputs": [
    {
     "name": "stdout",
     "output_type": "stream",
     "text": [
      "(-3333,)\n"
     ]
    }
   ],
   "source": [
    "ans = struct.unpack('>h', data)[0]  # returns a tuple\n",
    "print(ans)"
   ]
  },
  {
   "cell_type": "code",
   "execution_count": 16,
   "metadata": {},
   "outputs": [
    {
     "name": "stdout",
     "output_type": "stream",
     "text": [
      "(6011, 14314)\n"
     ]
    }
   ],
   "source": [
    "b = bytearray([23,123,55,234])\n",
    "ans = struct.unpack('>hh', b)\n",
    "print(ans)"
   ]
  },
  {
   "cell_type": "code",
   "execution_count": null,
   "metadata": {
    "collapsed": true
   },
   "outputs": [],
   "source": [
    "()"
   ]
  }
 ],
 "metadata": {
  "kernelspec": {
   "display_name": "Python 2",
   "language": "python",
   "name": "python2"
  },
  "language_info": {
   "codemirror_mode": {
    "name": "ipython",
    "version": 3
   },
   "file_extension": ".py",
   "mimetype": "text/x-python",
   "name": "python",
   "nbconvert_exporter": "python",
   "pygments_lexer": "ipython3",
   "version": "3.6.1"
  }
 },
 "nbformat": 4,
 "nbformat_minor": 2
}
